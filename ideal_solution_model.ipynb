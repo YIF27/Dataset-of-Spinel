{
  "nbformat": 4,
  "nbformat_minor": 0,
  "metadata": {
    "colab": {
      "provenance": [],
      "toc_visible": true,
      "authorship_tag": "ABX9TyORQNnbq1OPeIfgCWfDFgDD",
      "include_colab_link": true
    },
    "kernelspec": {
      "name": "python3",
      "display_name": "Python 3"
    },
    "language_info": {
      "name": "python"
    }
  },
  "cells": [
    {
      "cell_type": "markdown",
      "metadata": {
        "id": "view-in-github",
        "colab_type": "text"
      },
      "source": [
        "<a href=\"https://colab.research.google.com/github/YIF27/Dataset-of-Spinel/blob/main/ideal_solution_model.ipynb\" target=\"_parent\"><img src=\"https://colab.research.google.com/assets/colab-badge.svg\" alt=\"Open In Colab\"/></a>"
      ]
    },
    {
      "cell_type": "markdown",
      "metadata": {
        "id": "NgxPGKVsXUnQ"
      },
      "source": [
        "# Ideal Solution Model"
      ]
    },
    {
      "cell_type": "code",
      "metadata": {
        "id": "uuMf8iM0bJAC"
      },
      "source": [
        "import numpy as np\n",
        "from sympy.solvers import solve\n",
        "from sympy import Symbol\n",
        "import math"
      ],
      "execution_count": 1,
      "outputs": []
    },
    {
      "cell_type": "markdown",
      "source": [
        "**From entropy to degree of inversion**"
      ],
      "metadata": {
        "id": "6F35E7BGPT0j"
      }
    },
    {
      "cell_type": "code",
      "metadata": {
        "id": "zw8AU3AfZkPu"
      },
      "source": [
        "R = 8.314 #unit J⋅K−1⋅mol−1\n",
        "def cal_x(H_int_eV, T):\n",
        "  \"\"\"\n",
        "  input:\n",
        "  H_int_eV: E_inverse-E_normel, unit is eV;\n",
        "  T: temperature, unit is K;\n",
        "  output:\n",
        "  x: degree of inversion\n",
        "  \"\"\"\n",
        "  H_int_J = H_int_eV*1.602*10**-19*6.022*10**23 #covert eV to J/mol\n",
        "  x = Symbol('x')\n",
        "  sol = solve(x**2/((1-x)*(2-x))-math.exp(-H_int_J/R/T), x)\n",
        "  return sol"
      ],
      "execution_count": 3,
      "outputs": []
    },
    {
      "cell_type": "code",
      "metadata": {
        "colab": {
          "base_uri": "https://localhost:8080/"
        },
        "id": "bx-aNvZkbHoI",
        "outputId": "7961d8f7-070b-4f1e-b6c8-d41141b9bc1c"
      },
      "source": [
        "print(cal_x(0.281, 1373))"
      ],
      "execution_count": 10,
      "outputs": [
        {
          "output_type": "stream",
          "name": "stdout",
          "text": [
            "[-0.632216997076042, 0.324492492912116]\n"
          ]
        }
      ]
    },
    {
      "cell_type": "markdown",
      "source": [
        "**From degree of inversion to temperature**"
      ],
      "metadata": {
        "id": "ol42kNzZPdUq"
      }
    },
    {
      "cell_type": "code",
      "metadata": {
        "id": "wzITaT55a9Pv"
      },
      "source": [
        "def cal_H(x, T):\n",
        "  \"\"\"\n",
        "  input:\n",
        "  x: degree of inversion\n",
        "  T: temperature (K)\n",
        "  output:\n",
        "  H: unit eV\n",
        "  \"\"\"\n",
        "  H = math.log(x**2/(1-x)/(2-x))*R*T*-1 #unit is J\n",
        "  H_eV= H/(1.602*10**-19*6.022*10**23)\n",
        "  return H_eV\n",
        "\n"
      ],
      "execution_count": null,
      "outputs": []
    },
    {
      "cell_type": "code",
      "metadata": {
        "colab": {
          "base_uri": "https://localhost:8080/"
        },
        "id": "OqwEvEldemnN",
        "outputId": "43a8a8ba-6a19-461a-d667-970bfb3987ce"
      },
      "source": [
        "print(cal_H(0.29, 760+273))"
      ],
      "execution_count": null,
      "outputs": [
        {
          "output_type": "stream",
          "name": "stdout",
          "text": [
            "0.23767196809337476\n"
          ]
        }
      ]
    },
    {
      "cell_type": "code",
      "source": [],
      "metadata": {
        "id": "40SRlNDm_Zuo"
      },
      "execution_count": null,
      "outputs": []
    }
  ]
}