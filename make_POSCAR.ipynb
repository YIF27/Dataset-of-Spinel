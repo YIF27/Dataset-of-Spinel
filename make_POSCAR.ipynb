{
  "nbformat": 4,
  "nbformat_minor": 0,
  "metadata": {
    "colab": {
      "provenance": [],
      "authorship_tag": "ABX9TyPbTn9tQvT8K9pDO/iypYWy",
      "include_colab_link": true
    },
    "kernelspec": {
      "name": "python3",
      "display_name": "Python 3"
    },
    "language_info": {
      "name": "python"
    }
  },
  "cells": [
    {
      "cell_type": "markdown",
      "metadata": {
        "id": "view-in-github",
        "colab_type": "text"
      },
      "source": [
        "<a href=\"https://colab.research.google.com/github/YIF27/Dataset-of-Spinel/blob/main/make_POSCAR.ipynb\" target=\"_parent\"><img src=\"https://colab.research.google.com/assets/colab-badge.svg\" alt=\"Open In Colab\"/></a>"
      ]
    },
    {
      "cell_type": "code",
      "execution_count": null,
      "metadata": {
        "id": "zNJb8KES4JxP"
      },
      "outputs": [],
      "source": [
        "degree_of_inversion = 0.25  # degree of inversion (x) could be 0.00, 0.25,0.50,0.75 and 1.00."
      ]
    },
    {
      "cell_type": "code",
      "source": [
        "import csv\n",
        "import random\n",
        "import numpy as np\n",
        "\n",
        "tetrahedral_sites = [[\"     0.250000000         0.250000000         0.750000000\"],\n",
        "                     [\"     0.750000000         0.750000000         0.750000000\"],\n",
        "                     [\"     0.000000000         0.500000000         0.000000000\"],\n",
        "                     [\"     0.250000000         0.750000000         0.250000000\"],\n",
        "                     [\"     0.500000000         0.500000000         0.500000000\"],\n",
        "                     [\"     0.500000000         0.000000000         0.000000000\"],\n",
        "                     [\"     0.750000000         0.250000000         0.250000000\"],\n",
        "                     [\"     0.000000000         0.000000000         0.500000000\"]]\n",
        "octahedral_sites = [[\"     0.125000000         0.625000000         0.625000000\"],\n",
        "                    [\"     0.625000000         0.125000000         0.625000000\"],\n",
        "                    [\"     0.875000000         0.125000000         0.875000000\"],\n",
        "                    [\"     0.125000000         0.875000000         0.875000000\"],\n",
        "                    [\"     0.375000000         0.625000000         0.875000000\"],\n",
        "                    [\"     0.875000000         0.875000000         0.125000000\"],\n",
        "                    [\"     0.125000000         0.125000000         0.125000000\"],\n",
        "                    [\"     0.375000000         0.375000000         0.125000000\"],\n",
        "                    [\"     0.875000000         0.375000000         0.625000000\"],\n",
        "                    [\"     0.125000000         0.375000000         0.375000000\"],\n",
        "                    [\"     0.625000000         0.875000000         0.375000000\"],\n",
        "                    [\"     0.375000000         0.125000000         0.375000000\"],\n",
        "                    [\"     0.375000000         0.875000000         0.625000000\"],\n",
        "                    [\"     0.625000000         0.625000000         0.125000000\"],\n",
        "                    [\"     0.625000000         0.375000000         0.875000000\"],\n",
        "                    [\"     0.875000000         0.625000000         0.375000000\"]]\n",
        "oxygen_sites = [\"     0.125000000         0.125000000         0.875000000\",\n",
        "                \"     0.875000000         0.375000000         0.375000000\",\n",
        "                \"     0.375000000         0.875000000         0.375000000\",\n",
        "                \"     0.625000000         0.625000000         0.875000000\",\n",
        "                \"     0.375000000         0.375000000         0.875000000\",\n",
        "                \"     0.625000000         0.125000000         0.375000000\",\n",
        "                \"     0.875000000         0.375000000         0.875000000\",\n",
        "                \"     0.125000000         0.125000000         0.375000000\",\n",
        "                \"     0.625000000         0.625000000         0.375000000\",\n",
        "                \"     0.375000000         0.875000000         0.875000000\",\n",
        "                \"     0.125000000         0.625000000         0.875000000\",\n",
        "                \"     0.875000000         0.875000000         0.375000000\",\n",
        "                \"     0.625000000         0.125000000         0.875000000\",\n",
        "                \"     0.125000000         0.625000000         0.375000000\",\n",
        "                \"     0.875000000         0.875000000         0.875000000\",\n",
        "                \"     0.375000000         0.375000000         0.375000000\",\n",
        "                \"     0.375000000         0.625000000         0.125000000\",\n",
        "                \"     0.625000000         0.375000000         0.125000000\",\n",
        "                \"     0.375000000         0.125000000         0.625000000\",\n",
        "                \"     0.625000000         0.875000000         0.625000000\",\n",
        "                \"     0.875000000         0.625000000         0.625000000\",\n",
        "                \"     0.125000000         0.375000000         0.625000000\",\n",
        "                \"     0.875000000         0.125000000         0.125000000\",\n",
        "                \"     0.125000000         0.875000000         0.125000000\",\n",
        "                \"     0.125000000         0.875000000         0.625000000\",\n",
        "                \"     0.375000000         0.625000000         0.625000000\",\n",
        "                \"     0.625000000         0.875000000         0.125000000\",\n",
        "                \"     0.875000000         0.625000000         0.125000000\",\n",
        "                \"     0.125000000         0.375000000         0.125000000\",\n",
        "                \"     0.375000000         0.125000000         0.125000000\",\n",
        "                \"     0.625000000         0.375000000         0.625000000\",\n",
        "                \"     0.875000000         0.125000000         0.625000000\"]"
      ],
      "metadata": {
        "id": "wtH7gJ4g5DUs"
      },
      "execution_count": 3,
      "outputs": []
    },
    {
      "cell_type": "code",
      "source": [
        "def shuffle_sites(degree_of_inversion):\n",
        "    index = list(range(8))\n",
        "    random.shuffle(index)\n",
        "    num_A_at_t = int(8 * (1 - degree_of_inversion))  # number of Mn cation at tetrahedral site.\n",
        "    num_B_at_t = 8 * degree_of_inversion  # number of Fe cation at tetrahedral site.\n",
        "    num_A_at_o = int(8 - num_A_at_t)  # number of Mn cation at octahedral site.\n",
        "    num_B_at_o = 16 - num_B_at_t  # number of Fe cation at octahedral site.\n",
        "    A_sites_new_t = [tetrahedral_sites[i] for i in index[0: num_A_at_t]]\n",
        "    B_sites_new_t = [tetrahedral_sites[i] for i in index[num_A_at_t: 8]]\n",
        "    index2 = list(range(16))\n",
        "    random.shuffle(index2)\n",
        "    A_sites_new_o = [octahedral_sites[j] for j in index2[0: num_A_at_o]]\n",
        "    B_sites_new_o = [octahedral_sites[j] for j in index2[num_A_at_o: 16]]\n",
        "    return A_sites_new_t, B_sites_new_t, A_sites_new_o, B_sites_new_o"
      ],
      "metadata": {
        "id": "iuwefWdm4h4E"
      },
      "execution_count": 13,
      "outputs": []
    },
    {
      "cell_type": "code",
      "source": [
        "def write_POSCAR(index, elements, lattice_prameter, degree_of_inversion):\n",
        "    info = [\"spinel\",\n",
        "        \"{}\".format(lattice_prameter), # lattice parameter of structure with the given degree of inversion\n",
        "        \"1.0        0.0000000000         0.0000000000\",\n",
        "        \"0.0000000000         1.0         0.0000000000\",\n",
        "        \"0.0000000000         0.0000000000         1.0\",\n",
        "        \"{} {} {}\".format(elements[0], elements[1], elements[2]),\n",
        "        \"8    16     32\",\n",
        "        \"Direct\"]\n",
        "    A_sites_new_t, B_sites_new_t, A_sites_new_o, B_sites_new_o = shuffle_sites(degree_of_inversion)\n",
        "    with open(\"POSCAR_{}\".format(index), \"w\") as f:\n",
        "        for l in info:\n",
        "            f.write(l)\n",
        "            f.write(\"\\n\")\n",
        "        for l in A_sites_new_t:\n",
        "            f.write(l[0] + \"\\n\")\n",
        "        for l in A_sites_new_o:\n",
        "            f.write(l[0] + \"\\n\")\n",
        "        for l in B_sites_new_t:\n",
        "            f.write(l[0] + \"\\n\")\n",
        "        for l in B_sites_new_o:\n",
        "            f.write(l[0] + \"\\n\")\n",
        "        for l in oxygen_sites:\n",
        "            f.write(l + \"\\n\")\n",
        "    f.close()\n",
        "\n"
      ],
      "metadata": {
        "id": "QE2VwvJv5RZ-"
      },
      "execution_count": 14,
      "outputs": []
    },
    {
      "cell_type": "code",
      "source": [
        "# build POSCAR files of 15 structures\n",
        "for i in range(15):\n",
        "    write_POSCAR(i, [\"Zn\", \"Fe\", \"O\"], 8.52, 0.25)\n"
      ],
      "metadata": {
        "id": "qAB3RCV_5g4u"
      },
      "execution_count": 15,
      "outputs": []
    },
    {
      "cell_type": "code",
      "source": [],
      "metadata": {
        "id": "UBz9pl_XzNZq"
      },
      "execution_count": null,
      "outputs": []
    }
  ]
}